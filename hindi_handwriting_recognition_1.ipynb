{
 "cells": [
  {
   "cell_type": "code",
   "execution_count": 2,
   "metadata": {},
   "outputs": [],
   "source": [
    "from __future__ import absolute_import\n",
    "from __future__ import division\n",
    "from __future__ import print_function\n",
    "import numpy as np\n",
    "import tensorflow as tf\n",
    "from tensorflow import keras\n",
    "from tensorflow.keras import layers\n",
    "from tensorflow.keras.layers import Input, Dense, Activation, ZeroPadding2D, BatchNormalization, Flatten, Conv2D\n",
    "from tensorflow.keras.layers import AveragePooling2D, MaxPooling2D, Dropout, GlobalMaxPooling2D, GlobalAveragePooling2D \n",
    "from tensorflow.keras.utils import to_categorical\n",
    "from keras.utils import np_utils, print_summary\n",
    "import pandas as pd\n",
    "from tensorflow.keras.models import Sequential\n",
    "from tensorflow.keras.callbacks import ModelCheckpoint\n",
    "import tensorflow.keras.backend as k"
   ]
  },
  {
   "cell_type": "code",
   "execution_count": 3,
   "metadata": {},
   "outputs": [],
   "source": [
    "import pandas as pd\n",
    "data = pd.read_csv('data.csv')\n",
    "dataset=np.array(data)\n",
    "np.random.shuffle(dataset)\n",
    "X= dataset\n",
    "Y= dataset\n",
    "X= X[:, 0:1024]\n",
    "Y= Y[:, 1024]\n",
    "X_train= X[0:70000, :]\n",
    "X_train= X_train/ 255.\n",
    "X_test= X[70000:72001, :]\n",
    "X_test= X_test/255.\n",
    "\n",
    "Y= Y.reshape(Y.shape[0], 1) \n",
    "Y_train= Y[0:70000, :]\n",
    "Y_train= Y_train.T\n",
    "Y_test= Y[70000:72001, :]\n",
    "Y_test= Y_test.T"
   ]
  },
  {
   "cell_type": "code",
   "execution_count": 4,
   "metadata": {},
   "outputs": [
    {
     "name": "stdout",
     "output_type": "stream",
     "text": [
      "Number of training examples =70000\n",
      "Number of test samples= 2000\n",
      "X_train shape: (70000, 1024)\n",
      "Y_train shape: (1, 70000)\n",
      "X_test shape: (2000, 1024)\n",
      "Y_test shape: (1, 2000)\n"
     ]
    }
   ],
   "source": [
    "print(\"Number of training examples =\"+ str(X_train.shape[0]))\n",
    "print(\"Number of test samples= \"+ str(X_test.shape[0]))\n",
    "print(\"X_train shape: \" + str(X_train.shape))\n",
    "print(\"Y_train shape: \" + str(Y_train.shape))\n",
    "print(\"X_test shape: \" + str(X_test.shape))\n",
    "print(\"Y_test shape: \" + str(Y_test.shape))"
   ]
  },
  {
   "cell_type": "code",
   "execution_count": 5,
   "metadata": {},
   "outputs": [],
   "source": [
    "image_x = 32\n",
    "image_y = 32\n",
    "\n",
    "train_y = np_utils.to_categorical(Y_train)\n",
    "test_y = np_utils.to_categorical(Y_test) \n",
    "train_y = train_y.reshape(train_y.shape[1], train_y.shape[2])\n",
    "test_y = test_y.reshape(test_y.shape[1], test_y.shape[2])\n",
    "X_train = X_train.reshape(X_train.shape[0], image_x, image_y, 1)\n",
    "X_test = X_test.reshape(X_test.shape[0], image_x, image_y, 1)"
   ]
  },
  {
   "cell_type": "code",
   "execution_count": 6,
   "metadata": {},
   "outputs": [
    {
     "name": "stdout",
     "output_type": "stream",
     "text": [
      "X_train shape: (70000, 32, 32, 1)\n",
      "Y_train shape: (70000, 37)\n"
     ]
    }
   ],
   "source": [
    "print(\"X_train shape: \" + str(X_train.shape))\n",
    "print(\"Y_train shape: \" + str(train_y.shape))"
   ]
  },
  {
   "cell_type": "code",
   "execution_count": 7,
   "metadata": {},
   "outputs": [],
   "source": [
    "#building a model\n",
    "def keras_model(image_x, image_y):\n",
    "    num_of_classes = 37\n",
    "    model = Sequential()\n",
    "    model.add(Conv2D(filters=32, kernel_size=(5,5), input_shape=(image_x,image_y, 1), activation='relu'))\n",
    "    model.add(MaxPooling2D(pool_size=(2,2), strides=(2,2), padding='same'))\n",
    "    model.add(Conv2D(64, (5,5), activation='relu'))\n",
    "    model.add(MaxPooling2D(pool_size=(5,5), strides=(5,5), padding='same'))\n",
    "    model.add(Flatten())\n",
    "    model.add(Dense(num_of_classes, activation='softmax'))\n",
    "    model.compile(loss='categorical_crossentropy', optimizer='adam', metrics=['accuracy'])\n",
    "    filepath= \"devanagari.h5\"\n",
    "    checkpoint1 = ModelCheckpoint(filepath, monitor='val_accuracy', verbose=1, save_best_only=True, mode='max')\n",
    "    callbacks_list= [checkpoint1]\n",
    "    \n",
    "    return model, callbacks_list"
   ]
  },
  {
   "cell_type": "code",
   "execution_count": 8,
   "metadata": {},
   "outputs": [
    {
     "name": "stdout",
     "output_type": "stream",
     "text": [
      "Train on 70000 samples, validate on 2000 samples\n",
      "Epoch 1/5\n",
      "69952/70000 [============================>.] - ETA: 0s - loss: 0.7448 - accuracy: 0.7874\n",
      "Epoch 00001: val_accuracy improved from -inf to 0.91250, saving model to devanagari.h5\n",
      "70000/70000 [==============================] - 142s 2ms/sample - loss: 0.7445 - accuracy: 0.7874 - val_loss: 0.3155 - val_accuracy: 0.9125\n",
      "Epoch 2/5\n",
      "69952/70000 [============================>.] - ETA: 0s - loss: 0.2186 - accuracy: 0.9336\n",
      "Epoch 00002: val_accuracy improved from 0.91250 to 0.94750, saving model to devanagari.h5\n",
      "70000/70000 [==============================] - 102s 1ms/sample - loss: 0.2186 - accuracy: 0.9336 - val_loss: 0.1961 - val_accuracy: 0.9475\n",
      "Epoch 3/5\n",
      "69952/70000 [============================>.] - ETA: 0s - loss: 0.1414 - accuracy: 0.9569\n",
      "Epoch 00003: val_accuracy improved from 0.94750 to 0.95650, saving model to devanagari.h5\n",
      "70000/70000 [==============================] - 101s 1ms/sample - loss: 0.1413 - accuracy: 0.9569 - val_loss: 0.1556 - val_accuracy: 0.9565\n",
      "Epoch 4/5\n",
      "69952/70000 [============================>.] - ETA: 0s - loss: 0.1043 - accuracy: 0.9682\n",
      "Epoch 00004: val_accuracy improved from 0.95650 to 0.95800, saving model to devanagari.h5\n",
      "70000/70000 [==============================] - 101s 1ms/sample - loss: 0.1043 - accuracy: 0.9682 - val_loss: 0.1513 - val_accuracy: 0.9580\n",
      "Epoch 5/5\n",
      "69952/70000 [============================>.] - ETA: 0s - loss: 0.0823 - accuracy: 0.9741\n",
      "Epoch 00005: val_accuracy did not improve from 0.95800\n",
      "70000/70000 [==============================] - 101s 1ms/sample - loss: 0.0823 - accuracy: 0.9741 - val_loss: 0.1391 - val_accuracy: 0.9575\n",
      "CNN Error: 4.25%\n",
      "Model: \"sequential\"\n",
      "_________________________________________________________________\n",
      "Layer (type)                 Output Shape              Param #   \n",
      "=================================================================\n",
      "conv2d (Conv2D)              (None, 28, 28, 32)        832       \n",
      "_________________________________________________________________\n",
      "max_pooling2d (MaxPooling2D) (None, 14, 14, 32)        0         \n",
      "_________________________________________________________________\n",
      "conv2d_1 (Conv2D)            (None, 10, 10, 64)        51264     \n",
      "_________________________________________________________________\n",
      "max_pooling2d_1 (MaxPooling2 (None, 2, 2, 64)          0         \n",
      "_________________________________________________________________\n",
      "flatten (Flatten)            (None, 256)               0         \n",
      "_________________________________________________________________\n",
      "dense (Dense)                (None, 37)                9509      \n",
      "=================================================================\n",
      "Total params: 61,605\n",
      "Trainable params: 61,605\n",
      "Non-trainable params: 0\n",
      "_________________________________________________________________\n"
     ]
    }
   ],
   "source": [
    "model, callbacks_list= keras_model(image_x, image_y)\n",
    "model.fit(X_train, train_y, validation_data=(X_test, test_y), epochs=5, batch_size= 64, callbacks=callbacks_list)\n",
    "scores= model.evaluate(X_test, test_y, verbose=0)\n",
    "print(\"CNN Error: %.2f%%\" % (100 - scores[1] * 100))\n",
    "print_summary(model)\n",
    "model.save('devanagari.h5')"
   ]
  },
  {
   "cell_type": "code",
   "execution_count": null,
   "metadata": {},
   "outputs": [],
   "source": []
  }
 ],
 "metadata": {
  "kernelspec": {
   "display_name": "Python 3",
   "language": "python",
   "name": "python3"
  },
  "language_info": {
   "codemirror_mode": {
    "name": "ipython",
    "version": 3
   },
   "file_extension": ".py",
   "mimetype": "text/x-python",
   "name": "python",
   "nbconvert_exporter": "python",
   "pygments_lexer": "ipython3",
   "version": "3.7.4"
  }
 },
 "nbformat": 4,
 "nbformat_minor": 2
}
